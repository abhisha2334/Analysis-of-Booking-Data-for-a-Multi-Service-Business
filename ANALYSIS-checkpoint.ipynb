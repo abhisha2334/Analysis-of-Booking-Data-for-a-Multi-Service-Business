{
 "cells": [
  {
   "cell_type": "code",
   "execution_count": 4,
   "id": "5cc6ee80-d7ae-452a-89b7-a92d7efabe5c",
   "metadata": {},
   "outputs": [],
   "source": [
    "import pandas as pd"
   ]
  },
  {
   "cell_type": "code",
   "execution_count": 6,
   "id": "77fb5962-5e84-4083-86a1-f0c1ce17c8f1",
   "metadata": {},
   "outputs": [],
   "source": [
    "# Load the dataset\n",
    "file_path = \"C:\\\\Users\\\\ABHISHAA\\\\AppData\\\\Local\\\\Microsoft\\\\Olk\\\\Attachments\\\\ooa-74c42ac9-ec5a-411f-af6b-6cfd1b08ccaf\\\\a36aef41ba396de0727d2fb43fdacc07e49bd2195a16929154cfbb43ab44e935\\\\DataAnalyst_Assesment_Dataset.xlsx\""
   ]
  },
  {
   "cell_type": "code",
   "execution_count": 8,
   "id": "0ced0247-2181-4cfa-96b0-84ec6036fa05",
   "metadata": {},
   "outputs": [],
   "source": [
    "# Load the sheet names\n",
    "xls = pd.ExcelFile(file_path)"
   ]
  },
  {
   "cell_type": "code",
   "execution_count": 9,
   "id": "223615e5-3221-474c-a788-85ef649119c7",
   "metadata": {},
   "outputs": [
    {
     "data": {
      "text/plain": [
       "['Large_Fake_Bookings_With_Discre']"
      ]
     },
     "execution_count": 9,
     "metadata": {},
     "output_type": "execute_result"
    }
   ],
   "source": [
    "xls.sheet_names"
   ]
  },
  {
   "cell_type": "code",
   "execution_count": 12,
   "id": "eaba2658-ca40-45be-a7fc-f6dabb42cc46",
   "metadata": {},
   "outputs": [],
   "source": [
    "# Load the data from the sheet\n",
    "df = pd.read_excel(xls, sheet_name=\"Large_Fake_Bookings_With_Discre\")"
   ]
  },
  {
   "cell_type": "code",
   "execution_count": 14,
   "id": "0b34e831-3691-4fa0-88ab-8836ade02db9",
   "metadata": {},
   "outputs": [
    {
     "data": {
      "text/html": [
       "<div>\n",
       "<style scoped>\n",
       "    .dataframe tbody tr th:only-of-type {\n",
       "        vertical-align: middle;\n",
       "    }\n",
       "\n",
       "    .dataframe tbody tr th {\n",
       "        vertical-align: top;\n",
       "    }\n",
       "\n",
       "    .dataframe thead th {\n",
       "        text-align: right;\n",
       "    }\n",
       "</style>\n",
       "<table border=\"1\" class=\"dataframe\">\n",
       "  <thead>\n",
       "    <tr style=\"text-align: right;\">\n",
       "      <th></th>\n",
       "      <th>Booking ID</th>\n",
       "      <th>Customer ID</th>\n",
       "      <th>Customer Name</th>\n",
       "      <th>Booking Type</th>\n",
       "      <th>Booking Date</th>\n",
       "      <th>Status</th>\n",
       "      <th>Class Type</th>\n",
       "      <th>Instructor</th>\n",
       "      <th>Time Slot</th>\n",
       "      <th>Duration (mins)</th>\n",
       "      <th>Price</th>\n",
       "      <th>Facility</th>\n",
       "      <th>Theme</th>\n",
       "      <th>Subscription Type</th>\n",
       "      <th>Service Name</th>\n",
       "      <th>Service Type</th>\n",
       "      <th>Customer Email</th>\n",
       "      <th>Customer Phone</th>\n",
       "    </tr>\n",
       "  </thead>\n",
       "  <tbody>\n",
       "    <tr>\n",
       "      <th>0</th>\n",
       "      <td>279d92c6-ce26-47c0-8915-e45b77fe20e2</td>\n",
       "      <td>00901ce3-3d86-4c97-bca2-40ccac2fb99f</td>\n",
       "      <td>Customer 1</td>\n",
       "      <td>Facility</td>\n",
       "      <td>2025-05-30</td>\n",
       "      <td>Pending</td>\n",
       "      <td>NaN</td>\n",
       "      <td>NaN</td>\n",
       "      <td>10:00:00</td>\n",
       "      <td>90.0</td>\n",
       "      <td>42.74</td>\n",
       "      <td>Party Room</td>\n",
       "      <td>NaN</td>\n",
       "      <td>NaN</td>\n",
       "      <td>Party Room</td>\n",
       "      <td>Facility</td>\n",
       "      <td>customer1@example.com</td>\n",
       "      <td>001-730-9034</td>\n",
       "    </tr>\n",
       "    <tr>\n",
       "      <th>1</th>\n",
       "      <td>415bfcbe-1a2e-4d4b-809a-4c5b606653b1</td>\n",
       "      <td>b82db986-bd52-4b07-bdd8-aa8cf2016241</td>\n",
       "      <td>Customer 2</td>\n",
       "      <td>Birthday Party</td>\n",
       "      <td>2025-05-29</td>\n",
       "      <td>Pending</td>\n",
       "      <td>NaN</td>\n",
       "      <td>NaN</td>\n",
       "      <td>NaN</td>\n",
       "      <td>NaN</td>\n",
       "      <td>182.06</td>\n",
       "      <td>Party Room</td>\n",
       "      <td>Superhero</td>\n",
       "      <td>NaN</td>\n",
       "      <td>Party Room</td>\n",
       "      <td>Birthday Party</td>\n",
       "      <td>customer2@example.com</td>\n",
       "      <td>001-537-5668</td>\n",
       "    </tr>\n",
       "    <tr>\n",
       "      <th>2</th>\n",
       "      <td>2100024b-46fc-47b5-ac1c-047d007a4723</td>\n",
       "      <td>6bbb6e83-9577-4f64-80b0-f073132d18f3</td>\n",
       "      <td>Customer 3</td>\n",
       "      <td>Birthday Party</td>\n",
       "      <td>2025-05-09</td>\n",
       "      <td>Confirmed</td>\n",
       "      <td>NaN</td>\n",
       "      <td>NaN</td>\n",
       "      <td>11:00:00</td>\n",
       "      <td>120.0</td>\n",
       "      <td>207.50</td>\n",
       "      <td>Play Area</td>\n",
       "      <td>NaN</td>\n",
       "      <td>NaN</td>\n",
       "      <td>Play Area</td>\n",
       "      <td>Facility</td>\n",
       "      <td>customer3@example.com</td>\n",
       "      <td>001-880-7769</td>\n",
       "    </tr>\n",
       "    <tr>\n",
       "      <th>3</th>\n",
       "      <td>74936def-088f-4d34-bad1-dfa76f78b704</td>\n",
       "      <td>f16f5beb-6a7d-4493-a19e-a30dbbd206e9</td>\n",
       "      <td>Customer 4</td>\n",
       "      <td>Birthday Party</td>\n",
       "      <td>2025-06-07</td>\n",
       "      <td>Pending</td>\n",
       "      <td>NaN</td>\n",
       "      <td>NaN</td>\n",
       "      <td>12:00:00</td>\n",
       "      <td>90.0</td>\n",
       "      <td>203.20</td>\n",
       "      <td>Play Area</td>\n",
       "      <td>NaN</td>\n",
       "      <td>NaN</td>\n",
       "      <td>Play Area</td>\n",
       "      <td>Birthday Party</td>\n",
       "      <td>customer4@example.com</td>\n",
       "      <td>001-491-3107</td>\n",
       "    </tr>\n",
       "    <tr>\n",
       "      <th>4</th>\n",
       "      <td>6272b4e7-a508-4ed7-bae0-21f7293287a8</td>\n",
       "      <td>eb297435-93d1-4e65-8dd4-6450922305cb</td>\n",
       "      <td>Customer 5</td>\n",
       "      <td>Class</td>\n",
       "      <td>2025-04-13</td>\n",
       "      <td>Pending</td>\n",
       "      <td>Art</td>\n",
       "      <td>NaN</td>\n",
       "      <td>15:00:00</td>\n",
       "      <td>120.0</td>\n",
       "      <td>161.14</td>\n",
       "      <td>NaN</td>\n",
       "      <td>NaN</td>\n",
       "      <td>NaN</td>\n",
       "      <td>Art</td>\n",
       "      <td>Class</td>\n",
       "      <td>customer5@example.com</td>\n",
       "      <td>001-718-3794</td>\n",
       "    </tr>\n",
       "  </tbody>\n",
       "</table>\n",
       "</div>"
      ],
      "text/plain": [
       "                             Booking ID                           Customer ID  \\\n",
       "0  279d92c6-ce26-47c0-8915-e45b77fe20e2  00901ce3-3d86-4c97-bca2-40ccac2fb99f   \n",
       "1  415bfcbe-1a2e-4d4b-809a-4c5b606653b1  b82db986-bd52-4b07-bdd8-aa8cf2016241   \n",
       "2  2100024b-46fc-47b5-ac1c-047d007a4723  6bbb6e83-9577-4f64-80b0-f073132d18f3   \n",
       "3  74936def-088f-4d34-bad1-dfa76f78b704  f16f5beb-6a7d-4493-a19e-a30dbbd206e9   \n",
       "4  6272b4e7-a508-4ed7-bae0-21f7293287a8  eb297435-93d1-4e65-8dd4-6450922305cb   \n",
       "\n",
       "  Customer Name    Booking Type Booking Date     Status Class Type Instructor  \\\n",
       "0    Customer 1        Facility   2025-05-30    Pending        NaN        NaN   \n",
       "1    Customer 2  Birthday Party   2025-05-29    Pending        NaN        NaN   \n",
       "2    Customer 3  Birthday Party   2025-05-09  Confirmed        NaN        NaN   \n",
       "3    Customer 4  Birthday Party   2025-06-07    Pending        NaN        NaN   \n",
       "4    Customer 5           Class   2025-04-13    Pending        Art        NaN   \n",
       "\n",
       "  Time Slot  Duration (mins)   Price    Facility      Theme  \\\n",
       "0  10:00:00             90.0   42.74  Party Room        NaN   \n",
       "1       NaN              NaN  182.06  Party Room  Superhero   \n",
       "2  11:00:00            120.0  207.50   Play Area        NaN   \n",
       "3  12:00:00             90.0  203.20   Play Area        NaN   \n",
       "4  15:00:00            120.0  161.14         NaN        NaN   \n",
       "\n",
       "   Subscription Type Service Name    Service Type         Customer Email  \\\n",
       "0                NaN   Party Room        Facility  customer1@example.com   \n",
       "1                NaN   Party Room  Birthday Party  customer2@example.com   \n",
       "2                NaN    Play Area        Facility  customer3@example.com   \n",
       "3                NaN    Play Area  Birthday Party  customer4@example.com   \n",
       "4                NaN          Art           Class  customer5@example.com   \n",
       "\n",
       "  Customer Phone  \n",
       "0   001-730-9034  \n",
       "1   001-537-5668  \n",
       "2   001-880-7769  \n",
       "3   001-491-3107  \n",
       "4   001-718-3794  "
      ]
     },
     "execution_count": 14,
     "metadata": {},
     "output_type": "execute_result"
    }
   ],
   "source": [
    "# Display the first few rows of the dataset\n",
    "df.head()"
   ]
  },
  {
   "cell_type": "code",
   "execution_count": 16,
   "id": "cbc40157-0788-47fd-b9d6-cb37a17a21ac",
   "metadata": {},
   "outputs": [
    {
     "name": "stdout",
     "output_type": "stream",
     "text": [
      "<class 'pandas.core.frame.DataFrame'>\n",
      "RangeIndex: 1000 entries, 0 to 999\n",
      "Data columns (total 18 columns):\n",
      " #   Column             Non-Null Count  Dtype         \n",
      "---  ------             --------------  -----         \n",
      " 0   Booking ID         1000 non-null   object        \n",
      " 1   Customer ID        1000 non-null   object        \n",
      " 2   Customer Name      1000 non-null   object        \n",
      " 3   Booking Type       1000 non-null   object        \n",
      " 4   Booking Date       1000 non-null   datetime64[ns]\n",
      " 5   Status             1000 non-null   object        \n",
      " 6   Class Type         328 non-null    object        \n",
      " 7   Instructor         270 non-null    object        \n",
      " 8   Time Slot          795 non-null    object        \n",
      " 9   Duration (mins)    795 non-null    float64       \n",
      " 10  Price              1000 non-null   float64       \n",
      " 11  Facility           672 non-null    object        \n",
      " 12  Theme              273 non-null    object        \n",
      " 13  Subscription Type  0 non-null      float64       \n",
      " 14  Service Name       1000 non-null   object        \n",
      " 15  Service Type       1000 non-null   object        \n",
      " 16  Customer Email     906 non-null    object        \n",
      " 17  Customer Phone     895 non-null    object        \n",
      "dtypes: datetime64[ns](1), float64(3), object(14)\n",
      "memory usage: 140.8+ KB\n"
     ]
    }
   ],
   "source": [
    "# Display basic information about the dataset \n",
    "df.info()"
   ]
  },
  {
   "cell_type": "code",
   "execution_count": 18,
   "id": "26f1bd48-d922-482e-9062-7c2bcf8be56b",
   "metadata": {},
   "outputs": [],
   "source": [
    "# 1. Drop the 'Subscription Type' column (completely empty)\n",
    "df_cleaned = df.drop(columns=[\"Subscription Type\"], errors='ignore')"
   ]
  },
  {
   "cell_type": "code",
   "execution_count": 20,
   "id": "6573a7af-9282-4d11-b055-09b6fe81cf56",
   "metadata": {},
   "outputs": [],
   "source": [
    "# 2. Fill missing values intelligently\n",
    "# Fill 'Class Type' & 'Instructor' only where 'Booking Type' is 'Class'\n",
    "df_cleaned[\"Class Type\"] = df_cleaned[\"Class Type\"].fillna(\"Unknown\")\n"
   ]
  },
  {
   "cell_type": "code",
   "execution_count": 22,
   "id": "5b77af46-8a57-42ac-8bcd-533ac0270def",
   "metadata": {},
   "outputs": [],
   "source": [
    "df_cleaned[\"Instructor\"]= df_cleaned[\"Instructor\"].fillna(\"Not Assigned\")"
   ]
  },
  {
   "cell_type": "code",
   "execution_count": 24,
   "id": "0ff06176-8b7f-41dd-abf1-78016f5ab297",
   "metadata": {},
   "outputs": [],
   "source": [
    "# Fill 'Facility' & 'Theme' with 'Not Applicable' where they are missing\n",
    "df_cleaned[\"Facility\"]= df_cleaned[\"Facility\"].fillna(\"Not Applicable\")"
   ]
  },
  {
   "cell_type": "code",
   "execution_count": 26,
   "id": "9e5652c3-ae69-4b55-9dc1-cd9435c8aae2",
   "metadata": {},
   "outputs": [],
   "source": [
    "df_cleaned[\"Theme\"]= df_cleaned[\"Theme\"].fillna(\"Not Applicable\")"
   ]
  },
  {
   "cell_type": "code",
   "execution_count": 28,
   "id": "70fcf202-4c9b-466d-9e4d-05b0be443c16",
   "metadata": {},
   "outputs": [],
   "source": [
    "# Fill missing 'Time Slot' and 'Duration' with placeholders for now\n",
    "df_cleaned[\"Time Slot\"]= df_cleaned[\"Time Slot\"].fillna(\"Unknown\")"
   ]
  },
  {
   "cell_type": "code",
   "execution_count": 30,
   "id": "65280ad6-3c5d-46ee-82d3-46616d6a9fbe",
   "metadata": {},
   "outputs": [],
   "source": [
    "df_cleaned[\"Duration (mins)\"] = df_cleaned[\"Duration (mins)\"].fillna(df_cleaned[\"Duration (mins)\"].median())\n"
   ]
  },
  {
   "cell_type": "code",
   "execution_count": 32,
   "id": "8bb2ad46-d7d9-47ca-b928-f8f0b0d55278",
   "metadata": {},
   "outputs": [],
   "source": [
    "# 3. Remove duplicate rows if any\n",
    "df_cleaned.drop_duplicates(inplace=True)"
   ]
  },
  {
   "cell_type": "code",
   "execution_count": 34,
   "id": "a59fafb9-bf3a-43f0-b0a7-8f0126099dff",
   "metadata": {},
   "outputs": [],
   "source": [
    "\n",
    "# 4. Detect Outliers in 'Price' and 'Duration'\n",
    "price_outliers = df_cleaned[df_cleaned[\"Price\"] > df_cleaned[\"Price\"].quantile(0.99)]"
   ]
  },
  {
   "cell_type": "code",
   "execution_count": 36,
   "id": "7abb74a0-99e4-40fb-b1b6-5c38ac9c3a92",
   "metadata": {},
   "outputs": [],
   "source": [
    "duration_outliers = df_cleaned[df_cleaned[\"Duration (mins)\"] > df_cleaned[\"Duration (mins)\"].quantile(0.99)]"
   ]
  },
  {
   "cell_type": "code",
   "execution_count": 38,
   "id": "8a2a1224-9d89-4406-9803-dad8c732c15b",
   "metadata": {},
   "outputs": [
    {
     "name": "stdout",
     "output_type": "stream",
     "text": [
      "<class 'pandas.core.frame.DataFrame'>\n",
      "RangeIndex: 1000 entries, 0 to 999\n",
      "Data columns (total 17 columns):\n",
      " #   Column           Non-Null Count  Dtype         \n",
      "---  ------           --------------  -----         \n",
      " 0   Booking ID       1000 non-null   object        \n",
      " 1   Customer ID      1000 non-null   object        \n",
      " 2   Customer Name    1000 non-null   object        \n",
      " 3   Booking Type     1000 non-null   object        \n",
      " 4   Booking Date     1000 non-null   datetime64[ns]\n",
      " 5   Status           1000 non-null   object        \n",
      " 6   Class Type       1000 non-null   object        \n",
      " 7   Instructor       1000 non-null   object        \n",
      " 8   Time Slot        1000 non-null   object        \n",
      " 9   Duration (mins)  1000 non-null   float64       \n",
      " 10  Price            1000 non-null   float64       \n",
      " 11  Facility         1000 non-null   object        \n",
      " 12  Theme            1000 non-null   object        \n",
      " 13  Service Name     1000 non-null   object        \n",
      " 14  Service Type     1000 non-null   object        \n",
      " 15  Customer Email   906 non-null    object        \n",
      " 16  Customer Phone   895 non-null    object        \n",
      "dtypes: datetime64[ns](1), float64(2), object(14)\n",
      "memory usage: 132.9+ KB\n"
     ]
    },
    {
     "data": {
      "text/plain": [
       "(None,\n",
       "                                Booking ID  \\\n",
       " 27   4fe3fc55-bb91-44dc-aef3-11a55c2dce53   \n",
       " 50   a67fd068-fb5b-428a-8d97-5b750efa98a5   \n",
       " 72   1f674ce7-382a-4d06-a580-c6c38cb182a5   \n",
       " 83   fdb454b8-5ef9-44b6-a978-98931c604452   \n",
       " 323  ee8ab88a-5ce4-4081-ab39-fc564aea79ef   \n",
       " 381  1ccbefc9-686c-47de-a78e-f30548e304f1   \n",
       " 520  62558446-3d0e-4ca5-a2d6-ebd90a239413   \n",
       " 527  de7ff8a0-0455-4ddf-b586-1cc05c462475   \n",
       " 625  958b0e44-3bbf-429c-9da2-83e2317666d2   \n",
       " 708  73d6d0ea-0e33-42b0-be16-69e067a0f409   \n",
       " \n",
       "                               Customer ID Customer Name    Booking Type  \\\n",
       " 27   a109b309-eee6-4bf1-b314-487febc058ea   Customer 28           Class   \n",
       " 50   c4d055d2-87a3-432d-8bcd-045d1d723ea9   Customer 51           Class   \n",
       " 72   82c7c275-993d-4b89-b6fc-83737334be67   Customer 73        Facility   \n",
       " 83   1a110b4c-0eb7-4efc-ad53-8be905d5bf53   Customer 84        Facility   \n",
       " 323  cce8a293-79cd-4972-9478-8955f8406c2a  Customer 324  Birthday Party   \n",
       " 381  3e6ae1ac-0363-4e6f-aaf9-99358526c293  Customer 382  Birthday Party   \n",
       " 520  9912c38f-eecd-462f-a6eb-d4e4eb3af14a  Customer 521  Birthday Party   \n",
       " 527  8a05dfac-aa12-4dcc-a99a-576c276e94c5  Customer 528           Class   \n",
       " 625  53b85f10-1aef-452e-80d8-0fbae5d23e90  Customer 626  Birthday Party   \n",
       " 708  9747b0f0-183c-4eec-a828-c28312862a92  Customer 709  Birthday Party   \n",
       " \n",
       "     Booking Date     Status  Class Type    Instructor Time Slot  \\\n",
       " 27    2025-04-26    Pending       Dance  Amanda Davis  13:00:00   \n",
       " 50    2025-04-14  Confirmed  Gymnastics  James Howard  12:00:00   \n",
       " 72    2025-05-22  Confirmed     Unknown  Not Assigned  09:00:00   \n",
       " 83    2025-03-29  Confirmed     Unknown  Not Assigned  16:00:00   \n",
       " 323   2025-05-13  Confirmed     Unknown  Not Assigned  14:00:00   \n",
       " 381   2025-04-11  Confirmed     Unknown  Not Assigned  16:00:00   \n",
       " 520   2025-05-20    Pending     Unknown  Not Assigned  14:00:00   \n",
       " 527   2025-05-04  Confirmed         Art  James Howard  12:00:00   \n",
       " 625   2025-06-16    Pending     Unknown  Not Assigned  12:00:00   \n",
       " 708   2025-04-01  Confirmed     Unknown  Not Assigned  10:00:00   \n",
       " \n",
       "      Duration (mins)   Price        Facility           Theme Service Name  \\\n",
       " 27             120.0  298.54  Not Applicable  Not Applicable        Dance   \n",
       " 50              45.0  299.05  Not Applicable  Not Applicable   Gymnastics   \n",
       " 72              45.0  299.76      Party Room  Not Applicable   Party Room   \n",
       " 83              45.0  298.04       Play Area  Not Applicable    Play Area   \n",
       " 323             45.0  299.14       Play Area       Superhero    Play Area   \n",
       " 381             45.0  298.75      Party Room          Sports   Party Room   \n",
       " 520             45.0  299.29       Play Area        Princess    Play Area   \n",
       " 527             90.0  298.15  Not Applicable  Not Applicable          Art   \n",
       " 625             45.0  297.45      Party Room        Princess   Party Room   \n",
       " 708             45.0  299.62       Play Area  Not Applicable    Play Area   \n",
       " \n",
       "        Service Type           Customer Email Customer Phone  \n",
       " 27            Class   customer28@example.com   001-720-8174  \n",
       " 50   Birthday Party                      NaN   001-874-3644  \n",
       " 72         Facility   customer73@example.com   001-498-2269  \n",
       " 83   Birthday Party                      NaN            NaN  \n",
       " 323           Class                      NaN   001-900-9599  \n",
       " 381  Birthday Party  customer382@example.com   001-363-6981  \n",
       " 520  Birthday Party  customer521@example.com   001-465-4410  \n",
       " 527           Class  customer528@example.com   001-637-5287  \n",
       " 625  Birthday Party  customer626@example.com   001-849-6119  \n",
       " 708  Birthday Party  customer709@example.com   001-168-5072  ,\n",
       " Empty DataFrame\n",
       " Columns: [Booking ID, Customer ID, Customer Name, Booking Type, Booking Date, Status, Class Type, Instructor, Time Slot, Duration (mins), Price, Facility, Theme, Service Name, Service Type, Customer Email, Customer Phone]\n",
       " Index: [])"
      ]
     },
     "execution_count": 38,
     "metadata": {},
     "output_type": "execute_result"
    }
   ],
   "source": [
    "\n",
    "# Display cleaned dataset summary\n",
    "df_cleaned.info(), price_outliers, duration_outliers"
   ]
  },
  {
   "cell_type": "code",
   "execution_count": 40,
   "id": "2b8dc1ab-e234-4dae-888a-d004b1f1fd76",
   "metadata": {},
   "outputs": [],
   "source": [
    "# Generate statistical summaries and key insights\n",
    "\n",
    "# 1. Summary statistics for numerical columns\n",
    "numerical_summary = df_cleaned.describe()"
   ]
  },
  {
   "cell_type": "code",
   "execution_count": 42,
   "id": "1fd60e8b-6b77-4931-ba5f-5e05d1372a91",
   "metadata": {},
   "outputs": [],
   "source": [
    "# 2. Count of bookings by type\n",
    "booking_type_counts = df_cleaned[\"Booking Type\"].value_counts()"
   ]
  },
  {
   "cell_type": "code",
   "execution_count": 44,
   "id": "137cc73f-5d78-4c25-9617-a20451473d63",
   "metadata": {},
   "outputs": [],
   "source": [
    "# 3. Revenue analysis - total and average price per booking type\n",
    "revenue_analysis = df_cleaned.groupby(\"Booking Type\")[\"Price\"].agg([\"sum\", \"mean\"]).rename(columns={\"sum\": \"Total Revenue\", \"mean\": \"Avg Price\"})\n"
   ]
  },
  {
   "cell_type": "code",
   "execution_count": 46,
   "id": "7b275545-a332-4683-a33b-61ebb33b51e5",
   "metadata": {},
   "outputs": [],
   "source": [
    "# 4. Most popular facilities and services\n",
    "top_facilities = df_cleaned[\"Facility\"].value_counts().head(5)"
   ]
  },
  {
   "cell_type": "code",
   "execution_count": 48,
   "id": "761dad7a-d5e4-4c8c-9476-c7db953e420f",
   "metadata": {},
   "outputs": [],
   "source": [
    "top_services = df_cleaned[\"Service Name\"].value_counts().head(5)\n"
   ]
  },
  {
   "cell_type": "code",
   "execution_count": 50,
   "id": "a7136da2-ab4b-438c-80c2-c6883438f5f8",
   "metadata": {},
   "outputs": [],
   "source": [
    "# 5. Booking trends over time\n",
    "df_cleaned[\"Booking Month\"] = df_cleaned[\"Booking Date\"].dt.to_period(\"M\")"
   ]
  },
  {
   "cell_type": "code",
   "execution_count": 52,
   "id": "abc5f15a-7939-4a42-a98c-19ace6cffe23",
   "metadata": {},
   "outputs": [],
   "source": [
    "monthly_bookings = df_cleaned.groupby(\"Booking Month\")[\"Booking ID\"].count() "
   ]
  },
  {
   "cell_type": "code",
   "execution_count": 54,
   "id": "823a9cde-155e-46cb-a7a4-2d51bbea6f5b",
   "metadata": {},
   "outputs": [
    {
     "data": {
      "text/plain": [
       "(                        Booking Date  Duration (mins)        Price\n",
       " count                           1000       1000.00000  1000.000000\n",
       " mean   2025-05-07 17:08:09.600000256         85.56000   139.477210\n",
       " min              2025-03-25 00:00:00         45.00000     0.000000\n",
       " 25%              2025-04-14 00:00:00         45.00000    58.090000\n",
       " 50%              2025-05-08 00:00:00         90.00000   137.355000\n",
       " 75%              2025-05-31 00:00:00         90.00000   219.897500\n",
       " max              2025-06-22 00:00:00        120.00000   299.760000\n",
       " std                              NaN         27.18134    92.239835,\n",
       " Booking Type\n",
       " Facility          337\n",
       " Birthday Party    335\n",
       " Class             328\n",
       " Name: count, dtype: int64,\n",
       "                 Total Revenue   Avg Price\n",
       " Booking Type                             \n",
       " Birthday Party       45141.66  134.751224\n",
       " Class                45566.38  138.921890\n",
       " Facility             48769.17  144.715638,\n",
       " Facility\n",
       " Play Area         356\n",
       " Not Applicable    328\n",
       " Party Room        316\n",
       " Name: count, dtype: int64,\n",
       " Service Name\n",
       " Play Area     356\n",
       " Party Room    316\n",
       " Gymnastics    111\n",
       " Art           110\n",
       " Dance         107\n",
       " Name: count, dtype: int64,\n",
       " Booking Month\n",
       " 2025-03     84\n",
       " 2025-04    334\n",
       " 2025-05    334\n",
       " 2025-06    248\n",
       " Freq: M, Name: Booking ID, dtype: int64)"
      ]
     },
     "execution_count": 54,
     "metadata": {},
     "output_type": "execute_result"
    }
   ],
   "source": [
    "numerical_summary, booking_type_counts, revenue_analysis, top_facilities, top_services, monthly_bookings"
   ]
  },
  {
   "cell_type": "code",
   "execution_count": 56,
   "id": "475ed86f-5f24-481b-a691-3e8e1dd644c3",
   "metadata": {},
   "outputs": [],
   "source": [
    "import matplotlib.pyplot as plt"
   ]
  },
  {
   "cell_type": "code",
   "execution_count": 57,
   "id": "31359ce6-6b9a-4baf-8008-50e8b7ac541c",
   "metadata": {},
   "outputs": [],
   "source": [
    "import seaborn as sns"
   ]
  },
  {
   "cell_type": "code",
   "execution_count": 59,
   "id": "21535c1a-90dc-49f5-9f7d-47db19cbd71f",
   "metadata": {},
   "outputs": [],
   "source": [
    "# Set plot style\n",
    "sns.set_style(\"whitegrid\")"
   ]
  },
  {
   "cell_type": "code",
   "execution_count": 60,
   "id": "56777506-4d9c-4023-a89b-c773e98ab552",
   "metadata": {},
   "outputs": [
    {
     "data": {
      "text/plain": [
       "<Axes: xlabel='Booking Type'>"
      ]
     },
     "execution_count": 60,
     "metadata": {},
     "output_type": "execute_result"
    },
    {
     "data": {
      "image/png": "[encoded data removed]",
      "text/plain": [
       "<Figure size 640x480 with 1 Axes>"
      ]
     },
     "metadata": {},
     "output_type": "display_data"
    }
   ],
   "source": [
    "# 1. Booking Type Distribution\n",
    "sns.barplot(x=booking_type_counts.index,\n",
    "            y=booking_type_counts.values,\n",
    "            hue=booking_type_counts.index, \n",
    "            palette=\"Blues_r\", legend=False)\n",
    "\n"
   ]
  },
  {
   "cell_type": "code",
   "execution_count": 61,
   "id": "3c54b596-4ed2-4df3-a2a8-d1d6f5f1c17f",
   "metadata": {},
   "outputs": [
    {
     "data": {
      "text/plain": [
       "<Axes: xlabel='Booking Type', ylabel='Total Revenue'>"
      ]
     },
     "execution_count": 61,
     "metadata": {},
     "output_type": "execute_result"
    },
    {
     "data": {
      "image/png": "[encoded data removed]",
      "text/plain": [
       "<Figure size 640x480 with 1 Axes>"
      ]
     },
     "metadata": {},
     "output_type": "display_data"
    }
   ],
   "source": [
    "\n",
    "# 2. Revenue by Booking Type\n",
    "sns.barplot(\n",
    "    x=revenue_analysis.index, \n",
    "    y=revenue_analysis[\"Total Revenue\"], \n",
    "    hue=revenue_analysis.index,  # Explicitly setting hue\n",
    "    palette=\"Greens_r\", \n",
    "    legend=False  # Remove legend if not needed\n",
    ")\n"
   ]
  },
  {
   "cell_type": "code",
   "execution_count": 62,
   "id": "85d3657b-8235-4528-ba4c-3d0348319b62",
   "metadata": {},
   "outputs": [
    {
     "data": {
      "image/png": "[encoded data removed]",
      "text/plain": [
       "<Figure size 1000x500 with 1 Axes>"
      ]
     },
     "metadata": {},
     "output_type": "display_data"
    }
   ],
   "source": [
    "# 3. Monthly Booking Trends\n",
    "plt.figure(figsize=(10,5))\n",
    "monthly_bookings.plot(kind=\"line\", marker=\"o\", color=\"blue\", linestyle=\"-\")\n",
    "plt.xlabel(\"Month\")\n",
    "plt.ylabel(\"Number of Bookings\")\n",
    "plt.title(\"Monthly Booking Trends\")\n",
    "plt.grid(True)\n",
    "plt.show()"
   ]
  },
  {
   "cell_type": "code",
   "execution_count": 68,
   "id": "f168fd0e-721f-4241-846b-432646c3c5b1",
   "metadata": {},
   "outputs": [],
   "source": [
    "cleaned_file_path = \"C:\\\\Users\\\\ABHISHAA\\\\Downloads\\\\Cleaned_Booking_Dataset.xlsx\""
   ]
  },
  {
   "cell_type": "code",
   "execution_count": 70,
   "id": "bf3765cc-5ae9-431b-9e6a-c19c9924a065",
   "metadata": {},
   "outputs": [],
   "source": [
    "df_cleaned.to_excel(cleaned_file_path, index=False)"
   ]
  },
  {
   "cell_type": "code",
   "execution_count": 72,
   "id": "82263091-7b76-4d59-a5db-b7a955d2d2cc",
   "metadata": {},
   "outputs": [
    {
     "data": {
      "text/plain": [
       "'C:\\\\Users\\\\ABHISHAA\\\\Downloads\\\\Cleaned_Booking_Dataset.xlsx'"
      ]
     },
     "execution_count": 72,
     "metadata": {},
     "output_type": "execute_result"
    }
   ],
   "source": [
    "cleaned_file_path"
   ]
  },
  {
   "cell_type": "code",
   "execution_count": null,
   "id": "282ec4e6-8479-452c-9207-b04946adfa00",
   "metadata": {},
   "outputs": [],
   "source": []
  },
  {
   "cell_type": "code",
   "execution_count": null,
   "id": "5a7341ae-0535-49a5-a0a9-cde95eab279c",
   "metadata": {},
   "outputs": [],
   "source": []
  }
 ],
 "metadata": {
  "kernelspec": {
   "display_name": "Python 3 (ipykernel)",
   "language": "python",
   "name": "python3"
  },
  "language_info": {
   "codemirror_mode": {
    "name": "ipython",
    "version": 3
   },
   "file_extension": ".py",
   "mimetype": "text/x-python",
   "name": "python",
   "nbconvert_exporter": "python",
   "pygments_lexer": "ipython3",
   "version": "3.12.4"
  }
 },
 "nbformat": 4,
 "nbformat_minor": 5
}
